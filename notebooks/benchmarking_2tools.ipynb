{
 "cells": [
  {
   "cell_type": "code",
   "execution_count": null,
   "id": "babb205c",
   "metadata": {},
   "outputs": [],
   "source": [
    "# Analyse comparative des deux outils STAR & featureCounts :\n",
    "# install :"
   ]
  },
  {
   "cell_type": "code",
   "execution_count": null,
   "id": "57463657",
   "metadata": {},
   "outputs": [],
   "source": [
    "\n",
    "star_df = pd.read_csv(\"./count_star/gene_count_matrix_STAR.csv\", index_col=\"Geneid\")\n",
    "fc_df = pd.read_csv(\"./count_featurecounts/gene_count_matrix_featurecounts.csv\", index_col=\"Geneid\")\n",
    "\n",
    "print(\"Matrice STAR shape:\", star_df.shape)\n",
    "print(\"Matrice featureCounts shape:\", fc_df.shape)"
   ]
  },
  {
   "cell_type": "code",
   "execution_count": null,
   "id": "1e4e3987",
   "metadata": {},
   "outputs": [],
   "source": [
    "common_genes = star_df.index.intersection(fc_df.index)\n",
    "star_common = star_df.loc[common_genes]\n",
    "fc_common = fc_df.loc[common_genes]\n",
    "\n",
    "star_common.columns = [f\"{col}_STAR\" for col in star_common.columns]\n",
    "fc_common.columns = [f\"{col}_FC\" for col in fc_common.columns]\n",
    "\n",
    "# fussion > les deux matrices\n",
    "merged_df = pd.concat([star_common, fc_common], axis=1)\n",
    "merged_df.to_csv(\"./merged_gene_counts.csv\")\n",
    "print(\"Matrices fusionnées et sauvegardées dans merged_gene_counts.csv\")"
   ]
  },
  {
   "cell_type": "code",
   "execution_count": null,
   "id": "7f6908b9",
   "metadata": {},
   "outputs": [],
   "source": [
    "import matplotlib.pyplot as plt\n",
    "import seaborn as sns\n",
    "\n",
    "\n",
    "star_samples = [col[:-5] for col in merged_df.columns if col.endswith('_STAR')]\n",
    "fc_samples = [col[:-3] for col in merged_df.columns if col.endswith('_FC')]\n",
    "common_samples = list(set(star_samples) & set(fc_samples))\n",
    "if not common_samples:\n",
    "\traise ValueError(\"Aucun échantillon commun trouvé entre STAR et FC.\")\n",
    "\n",
    "sample_name = common_samples[0]\n",
    "star_col = f\"{sample_name}_STAR\"\n",
    "fc_col = f\"{sample_name}_FC\"\n",
    "\n",
    "# Plot scatterplot\n",
    "plt.figure(figsize=(8, 6))\n",
    "sns.scatterplot(data=merged_df[[star_col, fc_col]], x=star_col, y=fc_col)\n",
    "plt.xscale('log')\n",
    "plt.yscale('log')\n",
    "plt.title(f\"Corrélation STAR vs featureCounts - Échantillon {sample_name}\")\n",
    "plt.xlabel(\"STAR counts\")\n",
    "plt.ylabel(\"featureCounts counts\")\n",
    "plt.plot([1, 1e6], [1, 1e6], 'r--', lw=1)\n",
    "plt.grid(True)\n",
    "plt.tight_layout()\n",
    "#plt.savefig(\"correlation_STAR_vs_FC.png\", dpi=300)\n",
    "plt.show()"
   ]
  },
  {
   "cell_type": "code",
   "execution_count": null,
   "id": "cd305d53",
   "metadata": {},
   "outputs": [],
   "source": [
    "# Calculer l'expression moyenne\n",
    "merged_df['mean_STAR'] = merged_df[[c for c in merged_df.columns if '_STAR' in c]].mean(axis=1)\n",
    "merged_df['mean_FC'] = merged_df[[c for c in merged_df.columns if '_FC' in c]].mean(axis=1)\n",
    "\n",
    "# Plot avec log\n",
    "merged_df[['mean_STAR', 'mean_FC']].plot(kind='hist', bins=50, figsize=(10, 6), alpha=0.7, logx=True)\n",
    "plt.title(\"Distribution de l'expression moyenne (STAR vs featureCounts)\")\n",
    "plt.xlabel(\"Expression moyenne (log scale)\")\n",
    "plt.ylabel(\"Nombre de gènes\")\n",
    "plt.legend(['STAR', 'featureCounts'])\n",
    "plt.grid(True)\n",
    "plt.tight_layout()\n",
    "#plt.savefig(\"distribution_expression_moyenne.png\", dpi=300)\n",
    "plt.show()"
   ]
  },
  {
   "cell_type": "code",
   "execution_count": null,
   "id": "74000f68",
   "metadata": {},
   "outputs": [],
   "source": [
    "from sklearn.decomposition import PCA\n",
    "import numpy as np\n",
    "\n",
    "# Log transform + PCA pour STAR\n",
    "star_log = np.log(star_df.sum(axis=1).to_frame('STAR') + 1)\n",
    "fc_log = np.log(fc_df.sum(axis=1).to_frame('featureCounts') + 1)\n",
    "\n",
    "pca_df = pd.concat([star_log, fc_log], axis=1)\n",
    "\n",
    "pca = PCA(n_components=2)\n",
    "pca_result = pca.fit_transform(pca_df.T)  # Échantillons en colonnes → transpose\n",
    "\n",
    "plt.figure(figsize=(8, 6))\n",
    "sns.scatterplot(x=pca_result[:, 0], y=pca_result[:, 1])\n",
    "for i, txt in enumerate(pca_df.columns):\n",
    "    plt.annotate(txt, (pca_result[i, 0], pca_result[i, 1]), fontsize=8)\n",
    "plt.title(\"PCA - Comparaison STAR vs featureCounts\")\n",
    "plt.xlabel(\"PC1\")\n",
    "plt.ylabel(\"PC2\")\n",
    "plt.grid(True)\n",
    "plt.tight_layout()\n",
    "#plt.savefig(\"pca_STAR_vs_FC.png\", dpi=300)\n",
    "plt.show()"
   ]
  },
  {
   "cell_type": "code",
   "execution_count": null,
   "id": "e552432d",
   "metadata": {},
   "outputs": [],
   "source": [
    "# Ajouter une colonne type d’outil\n",
    "merged_df['Gene'] = merged_df.index\n",
    "df_melted = merged_df.melt(id_vars=['Gene'], value_vars=merged_df.columns.tolist(),\n",
    "                           var_name='Sample', value_name='Count')\n",
    "df_melted['Tool'] = df_melted['Sample'].apply(lambda x: \"STAR\" if \"_STAR\" in x else \"featureCounts\")\n",
    "\n",
    "# Plot boxplot\n",
    "plt.figure(figsize=(10, 6))\n",
    "sns.boxplot(data=df_melted, x='Tool', y='Count', showfliers=False)\n",
    "plt.yscale('log')\n",
    "plt.title(\"Boxplot de l'expression génique selon l'outil\")\n",
    "plt.ylabel(\"Nombre de reads\")\n",
    "plt.grid(True)\n",
    "plt.tight_layout()\n",
    "#plt.savefig(\"boxplot_STAR_vs_FC.png\", dpi=300)\n",
    "plt.show()"
   ]
  },
  {
   "cell_type": "code",
   "execution_count": null,
   "id": "ac4220a3",
   "metadata": {},
   "outputs": [],
   "source": [
    "summary_table = pd.DataFrame({\n",
    "    'mean_STAR': star_df.mean(axis=1),\n",
    "    'mean_FC': fc_df.mean(axis=1),\n",
    "    'diff': abs(star_df.mean(axis=1) - fc_df.mean(axis=1)),\n",
    "}).sort_values(by='diff', ascending=False)\n",
    "\n",
    "summary_table.head(10).plot(kind='barh', figsize=(10, 6), title=\"Top 10 des gènes avec plus grande différence\")\n",
    "plt.xscale('log')\n",
    "plt.xlabel(\"Moyenne d'expression\")\n",
    "plt.grid(True)\n",
    "plt.tight_layout()\n",
    "#plt.savefig(\"top_diff_genes.png\", dpi=300)\n",
    "plt.show()"
   ]
  },
  {
   "cell_type": "code",
   "execution_count": null,
   "id": "1dbb64e8",
   "metadata": {},
   "outputs": [],
   "source": []
  },
  {
   "cell_type": "code",
   "execution_count": null,
   "id": "2e758bd1",
   "metadata": {},
   "outputs": [],
   "source": []
  },
  {
   "cell_type": "code",
   "execution_count": null,
   "id": "54689320",
   "metadata": {},
   "outputs": [],
   "source": []
  },
  {
   "cell_type": "code",
   "execution_count": null,
   "id": "f32442cc",
   "metadata": {},
   "outputs": [],
   "source": []
  }
 ],
 "metadata": {
  "kernelspec": {
   "display_name": "Python 3",
   "language": "python",
   "name": "python3"
  },
  "language_info": {
   "codemirror_mode": {
    "name": "ipython",
    "version": 3
   },
   "file_extension": ".py",
   "mimetype": "text/x-python",
   "name": "python",
   "nbconvert_exporter": "python",
   "pygments_lexer": "ipython3",
   "version": "3.11.11"
  }
 },
 "nbformat": 4,
 "nbformat_minor": 5
}
