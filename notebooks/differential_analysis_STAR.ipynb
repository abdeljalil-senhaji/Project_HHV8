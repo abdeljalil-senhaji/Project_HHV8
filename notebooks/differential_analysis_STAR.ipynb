{
 "cells": [
  {
   "cell_type": "code",
   "execution_count": null,
   "id": "81fe56db",
   "metadata": {},
   "outputs": [],
   "source": [
    "# Analyse diff STAR HHV8 :\n",
    "# install :"
   ]
  },
  {
   "cell_type": "code",
   "execution_count": 1,
   "id": "3a639a79",
   "metadata": {},
   "outputs": [
    {
     "name": "stdout",
     "output_type": "stream",
     "text": [
      "Matrice Done  : ./count_star/gene_count_matrix_STAR.csv\n"
     ]
    }
   ],
   "source": [
    "import os\n",
    "import pandas as pd\n",
    "\n",
    "count_dir = \"./count_star\"\n",
    "output_matrix = \"./count_star/gene_count_matrix_STAR.csv\"\n",
    "\n",
    "files = [f for f in os.listdir(count_dir) if f.endswith(\"_ReadsPerGene.out.tab\")]\n",
    "dfs = []\n",
    "\n",
    "for file in files:\n",
    "    sample_name = file.replace(\"_not_hg38_ReadsPerGene.out.tab\", \"\")  \n",
    "    path = os.path.join(count_dir, file)\n",
    "\n",
    "\n",
    "    df = pd.read_csv(path, sep='\\t', skiprows=1, header=None)\n",
    "\n",
    "\n",
    "    if len(df.columns) < 2:\n",
    "        logging.warning(f\"Fichier {file} a seulement {len(df.columns)} colonnes → skip\")\n",
    "        continue\n",
    "\n",
    "    # Geneid + dernier colonne = nmb de reads\n",
    "    df.columns = ['Geneid'] + [f\"col{i}\" for i in range(1, len(df.columns))]\n",
    "    df = df[['Geneid', df.columns[-1]]]\n",
    "    df.columns = ['Geneid', sample_name]\n",
    "\n",
    "    dfs.append(df.set_index('Geneid'))\n",
    "\n",
    "combined_df = pd.concat(dfs, axis=1)\n",
    "\n",
    "# rm les  \"unassigned\"\n",
    "gene_mask = ~combined_df.index.str.contains(\"N_\", na=True) & ~combined_df.index.str.contains(\"unassigned\", na=True)\n",
    "combined_df = combined_df[gene_mask]\n",
    "\n",
    "\n",
    "combined_df.to_csv(output_matrix)\n",
    "print(f\"Matrice Done  : {output_matrix}\")"
   ]
  },
  {
   "cell_type": "code",
   "execution_count": null,
   "id": "94decc52",
   "metadata": {},
   "outputs": [],
   "source": [
    "#Charger les data et librairies\n",
    "import pandas as pd\n",
    "import numpy as np\n",
    "import matplotlib.pyplot as plt\n",
    "import seaborn as sns\n",
    "from sklearn.decomposition import PCA\n",
    "from sklearn.preprocessing import StandardScaler\n",
    "\n",
    "\n",
    "matrix_path = \"./count_star/gene_count_matrix_STAR.csv\"\n",
    "df_counts = pd.read_csv(matrix_path, index_col=0)\n",
    "\n",
    "print(\"Dimensions:\", df_counts.shape)\n",
    "df_counts.head()"
   ]
  },
  {
   "cell_type": "code",
   "execution_count": null,
   "id": "624c7a70",
   "metadata": {},
   "outputs": [],
   "source": [
    "#Tableau : Nombre total de reads par échantillon + Graphique\n",
    "\n",
    "# total de reads par sample\n",
    "total_reads_per_sample = df_counts.sum().to_frame(name=\"Total Reads\")\n",
    "total_reads_per_sample[\"Moyenne par gène\"] = df_counts.mean()\n",
    "total_reads_per_sample[\"Médiane par gène\"] = df_counts.median()\n",
    "\n",
    "print(\"Statistiques par échantillon\")\n",
    "display(total_reads_per_sample.sort_values(by=\"Total Reads\", ascending=False))\n",
    "\n",
    "# Histogramme\n",
    "plt.figure(figsize=(10,6))\n",
    "sns.barplot(x=total_reads_per_sample.index, y=\"Total Reads\", data=total_reads_per_sample, palette=\"viridis\")\n",
    "plt.xticks(rotation=90)\n",
    "plt.title(\"Nombre total de reads par échantillon\")\n",
    "plt.xlabel(\"Sample\")\n",
    "plt.ylabel(\"Total reads\")\n",
    "plt.show()"
   ]
  },
  {
   "cell_type": "code",
   "execution_count": null,
   "id": "795fe12f",
   "metadata": {},
   "outputs": [],
   "source": [
    "\n",
    "# Tableau : Statistiques par échantillon + Boxplot\n",
    "stats_df = df_counts.describe().T\n",
    "stats_df = stats_df[['mean', '50%', 'std', 'min', 'max']]\n",
    "print(\"Statistiques descriptives par échantillon\")\n",
    "display(stats_df)\n",
    "\n",
    "# Graphique : Boxplot\n",
    "plt.figure(figsize=(12,8))\n",
    "sns.boxplot(data=df_counts.T)\n",
    "plt.xticks(rotation=90)\n",
    "plt.title(\"Distribution des comptages (boxplots) par échantillon\")\n",
    "plt.ylabel(\"Nombre de reads\")\n",
    "plt.show()"
   ]
  },
  {
   "cell_type": "code",
   "execution_count": null,
   "id": "9ad53e6c",
   "metadata": {},
   "outputs": [],
   "source": [
    "# Dictionnaire : identifiant → abréviation/fonction\n",
    "gene_abbr = {\n",
    "    \"HHV8GK18_gp01\": \"K1\",\n",
    "    \"HHV8_gs01\": \"miscRNA01\",\n",
    "    \"HHV8GK18_gp39\": \"ORF35\",\n",
    "    \"HHV8GK18_gp62\": \"vIRF-1 (K9)\",\n",
    "    \"HHV8GK18_gp63\": \"vIRF-4\",\n",
    "    \"HHV8GK18_gp64\": \"vIRF-3\",\n",
    "    \"HHV8GK18_gp65\": \"vIRF-2\",\n",
    "    \"HHV8GK18_gp79\": \"K12\",\n",
    "    \"HHV8_gs02\": \"miscRNA02\",\n",
    "    \"HHV8_gs03\": \"miscRNA03\",\n",
    "    \"HHV8_gs04\": \"miscRNA04\",\n",
    "    \"HHV8_gs05\": \"miscRNA05\",\n",
    "    \"HHV8_gs06\": \"miscRNA06\",\n",
    "    \"HHV8_gs07\": \"miscRNA07\",\n",
    "    \"HHV8_gs08\": \"miscRNA08\",\n",
    "    \"HHV8_gs09\": \"miscRNA09\",\n",
    "    \"HHV8_gs10\": \"miscRNA10\"\n",
    "}\n",
    "\n",
    "# Exemple d'utilisation : obtenir l'abréviation d'un gène \n",
    "\n",
    "gene_ids = df_counts.index  # Utilise l'index du DataFrame comme liste des gènes\n",
    "for gene in gene_ids:\n",
    "    print(f\"{gene} : {gene_abbr.get(gene, 'NA')}\")"
   ]
  },
  {
   "cell_type": "code",
   "execution_count": null,
   "id": "8b7a11d4",
   "metadata": {},
   "outputs": [],
   "source": [
    "#Corrélation entre échantillons + Heatmap\n",
    "corr_matrix = df_counts.corr(method=\"pearson\")\n",
    "print(\"🧮 Corrélation entre échantillons (Pearson)\")\n",
    "display(corr_matrix)\n",
    "\n",
    "# Graphique : Heatmap\n",
    "plt.figure(figsize=(10,8))\n",
    "sns.heatmap(corr_matrix, annot=True, cmap='coolwarm', fmt=\".2f\", linewidths=0.5)\n",
    "plt.title(\"Heatmap de corrélation (Pearson) entre échantillons\")\n",
    "plt.show()"
   ]
  },
  {
   "cell_type": "code",
   "execution_count": null,
   "id": "f7ab4698",
   "metadata": {},
   "outputs": [],
   "source": [
    "#Filtrage des gènes faiblement exprimés + Stats\n",
    "# Filtrer les gènes exprimés dans au moins 2 échantillons avec > 10 reads\n",
    "threshold = 10\n",
    "min_samples = 2\n",
    "mask = (df_counts > threshold).sum(axis=1) >= min_samples\n",
    "filtered_df = df_counts[mask]\n",
    "\n",
    "print(f\"🧬 Gènes avant filtrage : {df_counts.shape[0]}\")\n",
    "print(f\"🧬 Gènes après filtrage (>={min_samples} échantillons avec >{threshold} reads) : {filtered_df.shape[0]}\")\n",
    "\n",
    "# Exemple : Afficher quelques gènes filtrés\n",
    "print(\"\\n🧬 Exemples de gènes conservés :\")\n",
    "display(filtered_df.sample(5))"
   ]
  },
  {
   "cell_type": "code",
   "execution_count": null,
   "id": "d9e229d7",
   "metadata": {},
   "outputs": [],
   "source": []
  }
 ],
 "metadata": {
  "kernelspec": {
   "display_name": "Python 3",
   "language": "python",
   "name": "python3"
  },
  "language_info": {
   "codemirror_mode": {
    "name": "ipython",
    "version": 3
   },
   "file_extension": ".py",
   "mimetype": "text/x-python",
   "name": "python",
   "nbconvert_exporter": "python",
   "pygments_lexer": "ipython3",
   "version": "3.11.11"
  }
 },
 "nbformat": 4,
 "nbformat_minor": 5
}
