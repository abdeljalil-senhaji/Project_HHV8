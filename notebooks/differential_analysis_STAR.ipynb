{
 "cells": [
  {
   "cell_type": "code",
   "execution_count": null,
   "id": "81fe56db",
   "metadata": {},
   "outputs": [],
   "source": [
    "# Analyse diff STAR HHV8 :\n",
    "# install :"
   ]
  },
  {
   "cell_type": "code",
   "execution_count": null,
   "id": "3a639a79",
   "metadata": {},
   "outputs": [],
   "source": [
    "import os\n",
    "import pandas as pd\n",
    "\n",
    "count_dir = \"./count_star\"\n",
    "output_matrix = \"./count_star/gene_count_matrix_STAR.csv\"\n",
    "\n",
    "files = [f for f in os.listdir(count_dir) if f.endswith(\"_ReadsPerGene.out.tab\")]\n",
    "dfs = []\n",
    "\n",
    "for file in files:\n",
    "    sample_name = file.replace(\"_not_hg38_ReadsPerGene.out.tab\", \"\")  \n",
    "    path = os.path.join(count_dir, file)\n",
    "\n",
    "\n",
    "    df = pd.read_csv(path, sep='\\t', skiprows=1, header=None)\n",
    "\n",
    "\n",
    "    if len(df.columns) < 2:\n",
    "        logging.warning(f\"Fichier {file} a seulement {len(df.columns)} colonnes → skip\")\n",
    "        continue\n",
    "\n",
    "    # Geneid + dernier colonne = nmb de reads\n",
    "    df.columns = ['Geneid'] + [f\"col{i}\" for i in range(1, len(df.columns))]\n",
    "    df = df[['Geneid', df.columns[-1]]]\n",
    "    df.columns = ['Geneid', sample_name]\n",
    "\n",
    "    dfs.append(df.set_index('Geneid'))\n",
    "\n",
    "combined_df = pd.concat(dfs, axis=1)\n",
    "\n",
    "# rm les  \"unassigned\"\n",
    "gene_mask = ~combined_df.index.str.contains(\"N_\", na=True) & ~combined_df.index.str.contains(\"unassigned\", na=True)\n",
    "combined_df = combined_df[gene_mask]\n",
    "\n",
    "\n",
    "combined_df.to_csv(output_matrix)\n",
    "print(f\"Matrice Done  : {output_matrix}\")"
   ]
  },
  {
   "cell_type": "code",
   "execution_count": null,
   "id": "94decc52",
   "metadata": {},
   "outputs": [],
   "source": []
  },
  {
   "cell_type": "code",
   "execution_count": null,
   "id": "624c7a70",
   "metadata": {},
   "outputs": [],
   "source": []
  },
  {
   "cell_type": "code",
   "execution_count": null,
   "id": "795fe12f",
   "metadata": {},
   "outputs": [],
   "source": []
  },
  {
   "cell_type": "code",
   "execution_count": null,
   "id": "9ad53e6c",
   "metadata": {},
   "outputs": [],
   "source": []
  },
  {
   "cell_type": "code",
   "execution_count": null,
   "id": "8b7a11d4",
   "metadata": {},
   "outputs": [],
   "source": []
  }
 ],
 "metadata": {
  "kernelspec": {
   "display_name": "Python 3",
   "language": "python",
   "name": "python3"
  },
  "language_info": {
   "codemirror_mode": {
    "name": "ipython",
    "version": 3
   },
   "file_extension": ".py",
   "mimetype": "text/x-python",
   "name": "python",
   "nbconvert_exporter": "python",
   "pygments_lexer": "ipython3",
   "version": "3.11.11"
  }
 },
 "nbformat": 4,
 "nbformat_minor": 5
}
